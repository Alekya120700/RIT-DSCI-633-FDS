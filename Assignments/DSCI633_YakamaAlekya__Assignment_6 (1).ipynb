{
  "nbformat": 4,
  "nbformat_minor": 0,
  "metadata": {
    "colab": {
      "name": "DSCI633-YakamaAlekya _Assignment 6.ipynb",
      "provenance": [],
      "collapsed_sections": []
    },
    "kernelspec": {
      "name": "python3",
      "display_name": "Python 3"
    },
    "language_info": {
      "name": "python"
    }
  },
  "cells": [
    {
      "cell_type": "markdown",
      "metadata": {
        "id": "QYM_fX9qoX_2"
      },
      "source": [
        "STEP 1: IMPORT LIBRARIES\n"
      ]
    },
    {
      "cell_type": "code",
      "metadata": {
        "id": "WJcjOn35n58u"
      },
      "source": [
        "from sklearn.datasets import load_iris\n",
        "from sklearn.datasets import make_blobs\n",
        "from sklearn import datasets\n",
        "import pandas as pd\n",
        "from sklearn.model_selection import train_test_split\n",
        "import seaborn as sns\n",
        "import matplotlib.pyplot as plt\n",
        "from sklearn.cluster import KMeans\n",
        "from scipy.spatial import Voronoi, voronoi_plot_2d\n",
        "from sklearn.mixture import GaussianMixture"
      ],
      "execution_count": 154,
      "outputs": []
    },
    {
      "cell_type": "markdown",
      "metadata": {
        "id": "Lku9KC8so_Qu"
      },
      "source": [
        "STEP 2: LOADING THE IRIS DATASET"
      ]
    },
    {
      "cell_type": "code",
      "metadata": {
        "colab": {
          "base_uri": "https://localhost:8080/"
        },
        "id": "k568xLz8pDmU",
        "outputId": "8a21a9a9-aac1-4c9e-ba03-4f61377051a4"
      },
      "source": [
        "iris = load_iris()\n",
        "type(iris)"
      ],
      "execution_count": 155,
      "outputs": [
        {
          "output_type": "execute_result",
          "data": {
            "text/plain": [
              "sklearn.utils.Bunch"
            ]
          },
          "metadata": {},
          "execution_count": 155
        }
      ]
    },
    {
      "cell_type": "code",
      "metadata": {
        "colab": {
          "base_uri": "https://localhost:8080/"
        },
        "id": "rgdLayfqFOZ7",
        "outputId": "f9ed1cf3-5a43-4234-d186-9dac57c660f5"
      },
      "source": [
        "print (iris.data)\n",
        "iris.data.shape"
      ],
      "execution_count": 156,
      "outputs": [
        {
          "output_type": "stream",
          "name": "stdout",
          "text": [
            "[[5.1 3.5 1.4 0.2]\n",
            " [4.9 3.  1.4 0.2]\n",
            " [4.7 3.2 1.3 0.2]\n",
            " [4.6 3.1 1.5 0.2]\n",
            " [5.  3.6 1.4 0.2]\n",
            " [5.4 3.9 1.7 0.4]\n",
            " [4.6 3.4 1.4 0.3]\n",
            " [5.  3.4 1.5 0.2]\n",
            " [4.4 2.9 1.4 0.2]\n",
            " [4.9 3.1 1.5 0.1]\n",
            " [5.4 3.7 1.5 0.2]\n",
            " [4.8 3.4 1.6 0.2]\n",
            " [4.8 3.  1.4 0.1]\n",
            " [4.3 3.  1.1 0.1]\n",
            " [5.8 4.  1.2 0.2]\n",
            " [5.7 4.4 1.5 0.4]\n",
            " [5.4 3.9 1.3 0.4]\n",
            " [5.1 3.5 1.4 0.3]\n",
            " [5.7 3.8 1.7 0.3]\n",
            " [5.1 3.8 1.5 0.3]\n",
            " [5.4 3.4 1.7 0.2]\n",
            " [5.1 3.7 1.5 0.4]\n",
            " [4.6 3.6 1.  0.2]\n",
            " [5.1 3.3 1.7 0.5]\n",
            " [4.8 3.4 1.9 0.2]\n",
            " [5.  3.  1.6 0.2]\n",
            " [5.  3.4 1.6 0.4]\n",
            " [5.2 3.5 1.5 0.2]\n",
            " [5.2 3.4 1.4 0.2]\n",
            " [4.7 3.2 1.6 0.2]\n",
            " [4.8 3.1 1.6 0.2]\n",
            " [5.4 3.4 1.5 0.4]\n",
            " [5.2 4.1 1.5 0.1]\n",
            " [5.5 4.2 1.4 0.2]\n",
            " [4.9 3.1 1.5 0.2]\n",
            " [5.  3.2 1.2 0.2]\n",
            " [5.5 3.5 1.3 0.2]\n",
            " [4.9 3.6 1.4 0.1]\n",
            " [4.4 3.  1.3 0.2]\n",
            " [5.1 3.4 1.5 0.2]\n",
            " [5.  3.5 1.3 0.3]\n",
            " [4.5 2.3 1.3 0.3]\n",
            " [4.4 3.2 1.3 0.2]\n",
            " [5.  3.5 1.6 0.6]\n",
            " [5.1 3.8 1.9 0.4]\n",
            " [4.8 3.  1.4 0.3]\n",
            " [5.1 3.8 1.6 0.2]\n",
            " [4.6 3.2 1.4 0.2]\n",
            " [5.3 3.7 1.5 0.2]\n",
            " [5.  3.3 1.4 0.2]\n",
            " [7.  3.2 4.7 1.4]\n",
            " [6.4 3.2 4.5 1.5]\n",
            " [6.9 3.1 4.9 1.5]\n",
            " [5.5 2.3 4.  1.3]\n",
            " [6.5 2.8 4.6 1.5]\n",
            " [5.7 2.8 4.5 1.3]\n",
            " [6.3 3.3 4.7 1.6]\n",
            " [4.9 2.4 3.3 1. ]\n",
            " [6.6 2.9 4.6 1.3]\n",
            " [5.2 2.7 3.9 1.4]\n",
            " [5.  2.  3.5 1. ]\n",
            " [5.9 3.  4.2 1.5]\n",
            " [6.  2.2 4.  1. ]\n",
            " [6.1 2.9 4.7 1.4]\n",
            " [5.6 2.9 3.6 1.3]\n",
            " [6.7 3.1 4.4 1.4]\n",
            " [5.6 3.  4.5 1.5]\n",
            " [5.8 2.7 4.1 1. ]\n",
            " [6.2 2.2 4.5 1.5]\n",
            " [5.6 2.5 3.9 1.1]\n",
            " [5.9 3.2 4.8 1.8]\n",
            " [6.1 2.8 4.  1.3]\n",
            " [6.3 2.5 4.9 1.5]\n",
            " [6.1 2.8 4.7 1.2]\n",
            " [6.4 2.9 4.3 1.3]\n",
            " [6.6 3.  4.4 1.4]\n",
            " [6.8 2.8 4.8 1.4]\n",
            " [6.7 3.  5.  1.7]\n",
            " [6.  2.9 4.5 1.5]\n",
            " [5.7 2.6 3.5 1. ]\n",
            " [5.5 2.4 3.8 1.1]\n",
            " [5.5 2.4 3.7 1. ]\n",
            " [5.8 2.7 3.9 1.2]\n",
            " [6.  2.7 5.1 1.6]\n",
            " [5.4 3.  4.5 1.5]\n",
            " [6.  3.4 4.5 1.6]\n",
            " [6.7 3.1 4.7 1.5]\n",
            " [6.3 2.3 4.4 1.3]\n",
            " [5.6 3.  4.1 1.3]\n",
            " [5.5 2.5 4.  1.3]\n",
            " [5.5 2.6 4.4 1.2]\n",
            " [6.1 3.  4.6 1.4]\n",
            " [5.8 2.6 4.  1.2]\n",
            " [5.  2.3 3.3 1. ]\n",
            " [5.6 2.7 4.2 1.3]\n",
            " [5.7 3.  4.2 1.2]\n",
            " [5.7 2.9 4.2 1.3]\n",
            " [6.2 2.9 4.3 1.3]\n",
            " [5.1 2.5 3.  1.1]\n",
            " [5.7 2.8 4.1 1.3]\n",
            " [6.3 3.3 6.  2.5]\n",
            " [5.8 2.7 5.1 1.9]\n",
            " [7.1 3.  5.9 2.1]\n",
            " [6.3 2.9 5.6 1.8]\n",
            " [6.5 3.  5.8 2.2]\n",
            " [7.6 3.  6.6 2.1]\n",
            " [4.9 2.5 4.5 1.7]\n",
            " [7.3 2.9 6.3 1.8]\n",
            " [6.7 2.5 5.8 1.8]\n",
            " [7.2 3.6 6.1 2.5]\n",
            " [6.5 3.2 5.1 2. ]\n",
            " [6.4 2.7 5.3 1.9]\n",
            " [6.8 3.  5.5 2.1]\n",
            " [5.7 2.5 5.  2. ]\n",
            " [5.8 2.8 5.1 2.4]\n",
            " [6.4 3.2 5.3 2.3]\n",
            " [6.5 3.  5.5 1.8]\n",
            " [7.7 3.8 6.7 2.2]\n",
            " [7.7 2.6 6.9 2.3]\n",
            " [6.  2.2 5.  1.5]\n",
            " [6.9 3.2 5.7 2.3]\n",
            " [5.6 2.8 4.9 2. ]\n",
            " [7.7 2.8 6.7 2. ]\n",
            " [6.3 2.7 4.9 1.8]\n",
            " [6.7 3.3 5.7 2.1]\n",
            " [7.2 3.2 6.  1.8]\n",
            " [6.2 2.8 4.8 1.8]\n",
            " [6.1 3.  4.9 1.8]\n",
            " [6.4 2.8 5.6 2.1]\n",
            " [7.2 3.  5.8 1.6]\n",
            " [7.4 2.8 6.1 1.9]\n",
            " [7.9 3.8 6.4 2. ]\n",
            " [6.4 2.8 5.6 2.2]\n",
            " [6.3 2.8 5.1 1.5]\n",
            " [6.1 2.6 5.6 1.4]\n",
            " [7.7 3.  6.1 2.3]\n",
            " [6.3 3.4 5.6 2.4]\n",
            " [6.4 3.1 5.5 1.8]\n",
            " [6.  3.  4.8 1.8]\n",
            " [6.9 3.1 5.4 2.1]\n",
            " [6.7 3.1 5.6 2.4]\n",
            " [6.9 3.1 5.1 2.3]\n",
            " [5.8 2.7 5.1 1.9]\n",
            " [6.8 3.2 5.9 2.3]\n",
            " [6.7 3.3 5.7 2.5]\n",
            " [6.7 3.  5.2 2.3]\n",
            " [6.3 2.5 5.  1.9]\n",
            " [6.5 3.  5.2 2. ]\n",
            " [6.2 3.4 5.4 2.3]\n",
            " [5.9 3.  5.1 1.8]]\n"
          ]
        },
        {
          "output_type": "execute_result",
          "data": {
            "text/plain": [
              "(150, 4)"
            ]
          },
          "metadata": {},
          "execution_count": 156
        }
      ]
    },
    {
      "cell_type": "code",
      "metadata": {
        "colab": {
          "base_uri": "https://localhost:8080/"
        },
        "id": "Cfk2SoLAFVll",
        "outputId": "dd54f0b0-d255-48d6-9add-873ad27e1e39"
      },
      "source": [
        "print (iris.feature_names)"
      ],
      "execution_count": 157,
      "outputs": [
        {
          "output_type": "stream",
          "name": "stdout",
          "text": [
            "['sepal length (cm)', 'sepal width (cm)', 'petal length (cm)', 'petal width (cm)']\n"
          ]
        }
      ]
    },
    {
      "cell_type": "code",
      "metadata": {
        "colab": {
          "base_uri": "https://localhost:8080/"
        },
        "id": "xsuRQoi3JnUR",
        "outputId": "edff4e6c-b449-4582-9f93-40aedee587a2"
      },
      "source": [
        "featuresAll=[]\n",
        "features = iris.data[: , [0,1,2,3]]\n",
        "features.shape\n"
      ],
      "execution_count": 158,
      "outputs": [
        {
          "output_type": "execute_result",
          "data": {
            "text/plain": [
              "(150, 4)"
            ]
          },
          "metadata": {},
          "execution_count": 158
        }
      ]
    },
    {
      "cell_type": "code",
      "metadata": {
        "colab": {
          "base_uri": "https://localhost:8080/"
        },
        "id": "nhRcdezbJt_W",
        "outputId": "0db40fa6-cafe-4128-b271-62018aab732d"
      },
      "source": [
        "# Extract the values for targets\n",
        "targets = iris.target\n",
        "targets.reshape(targets.shape[0],-1)\n",
        "targets.shape"
      ],
      "execution_count": 159,
      "outputs": [
        {
          "output_type": "execute_result",
          "data": {
            "text/plain": [
              "(150,)"
            ]
          },
          "metadata": {},
          "execution_count": 159
        }
      ]
    },
    {
      "cell_type": "code",
      "metadata": {
        "colab": {
          "base_uri": "https://localhost:8080/"
        },
        "id": "XvpvYU-UJyT9",
        "outputId": "323a08ca-509e-4ad2-e52c-005d3762d075"
      },
      "source": [
        "for observation in features:\n",
        "    featuresAll.append([observation[0] + observation[1] + observation[2] + observation[3]])\n",
        "print (featuresAll)"
      ],
      "execution_count": 160,
      "outputs": [
        {
          "output_type": "stream",
          "name": "stdout",
          "text": [
            "[[10.2], [9.5], [9.4], [9.399999999999999], [10.2], [11.4], [9.700000000000001], [10.1], [8.9], [9.6], [10.8], [9.999999999999998], [9.299999999999999], [8.5], [11.2], [12.000000000000002], [11.000000000000002], [10.3], [11.5], [10.7], [10.7], [10.700000000000001], [9.399999999999999], [10.599999999999998], [10.299999999999999], [9.799999999999999], [10.4], [10.399999999999999], [10.2], [9.7], [9.7], [10.700000000000001], [10.9], [11.299999999999999], [9.7], [9.599999999999998], [10.5], [10.0], [8.9], [10.2], [10.100000000000001], [8.4], [9.1], [10.7], [11.2], [9.5], [10.699999999999998], [9.399999999999999], [10.7], [9.9], [16.299999999999997], [15.600000000000001], [16.4], [13.100000000000001], [15.4], [14.3], [15.9], [11.600000000000001], [15.4], [13.200000000000001], [11.5], [14.600000000000001], [13.2], [15.1], [13.4], [15.600000000000001], [14.6], [13.6], [14.4], [13.1], [15.700000000000003], [14.2], [15.200000000000001], [14.799999999999997], [14.900000000000002], [15.4], [15.799999999999999], [16.4], [14.9], [12.8], [12.799999999999999], [12.600000000000001], [13.6], [15.399999999999999], [14.4], [15.5], [16.0], [14.3], [14.0], [13.3], [13.7], [15.1], [13.6], [11.6], [13.8], [14.099999999999998], [14.100000000000001], [14.7], [11.7], [13.9], [18.1], [15.5], [18.1], [16.599999999999998], [17.5], [19.3], [13.6], [18.3], [16.8], [19.4], [16.799999999999997], [16.3], [17.400000000000002], [15.2], [16.099999999999998], [17.200000000000003], [16.8], [20.4], [19.500000000000004], [14.7], [18.1], [15.299999999999999], [19.2], [15.700000000000001], [17.8], [18.2], [15.600000000000001], [15.8], [16.9], [17.6], [18.199999999999996], [20.1], [17.0], [15.7], [15.7], [19.099999999999998], [17.7], [16.8], [15.600000000000001], [17.5], [17.8], [17.4], [15.5], [18.2], [18.2], [17.2], [15.700000000000001], [16.7], [17.3], [15.8]]\n"
          ]
        }
      ]
    },
    {
      "cell_type": "code",
      "metadata": {
        "id": "IJ-aWJ9Kdc9H"
      },
      "source": [
        "df = pd.DataFrame(iris.data, columns = iris.feature_names) #dataframe form of dataset\n",
        "df[\"species\"] = iris.target"
      ],
      "execution_count": 161,
      "outputs": []
    },
    {
      "cell_type": "markdown",
      "metadata": {
        "id": "yDyTIQhHPXjr"
      },
      "source": [
        "Data Visualization"
      ]
    },
    {
      "cell_type": "code",
      "metadata": {
        "colab": {
          "base_uri": "https://localhost:8080/",
          "height": 487
        },
        "id": "YbzQHMuucE30",
        "outputId": "9b749bf6-be1b-4cb7-a2c2-52f44cdce12f"
      },
      "source": [
        "import seaborn as sns\n",
        "import pandas as pd\n",
        "corr = df.corr()\n",
        "plt.figure(figsize=(10,8)) \n",
        "sns.heatmap(corr, \n",
        "            xticklabels=corr.columns.values,\n",
        "            yticklabels=corr.columns.values,\n",
        "           cmap='Blues', annot=True)\n",
        "plt.show()"
      ],
      "execution_count": 162,
      "outputs": [
        {
          "output_type": "display_data",
          "data": {
            "image/png": "[encoded data removed]",
            "text/plain": [
              "<Figure size 720x576 with 2 Axes>"
            ]
          },
          "metadata": {
            "needs_background": "light"
          }
        }
      ]
    },
    {
      "cell_type": "markdown",
      "metadata": {
        "id": "wBleCrrEeetK"
      },
      "source": [
        "K MEANS IMPLEMENTATION"
      ]
    },
    {
      "cell_type": "code",
      "metadata": {
        "id": "d6-NKjDceioB"
      },
      "source": [
        "import numpy as np\n",
        "X1 = np.asarray(featuresAll)\n",
        "X1 = X1.reshape(-1,1)"
      ],
      "execution_count": 163,
      "outputs": []
    },
    {
      "cell_type": "code",
      "metadata": {
        "colab": {
          "base_uri": "https://localhost:8080/"
        },
        "id": "JhrYQKvHenFc",
        "outputId": "2447f89e-a9c9-4832-8e70-3c24786094d7"
      },
      "source": [
        "X1.shape"
      ],
      "execution_count": 164,
      "outputs": [
        {
          "output_type": "execute_result",
          "data": {
            "text/plain": [
              "(150, 1)"
            ]
          },
          "metadata": {},
          "execution_count": 164
        }
      ]
    },
    {
      "cell_type": "code",
      "metadata": {
        "colab": {
          "base_uri": "https://localhost:8080/"
        },
        "id": "9kf1EKvBeosC",
        "outputId": "f8c4169f-5f6e-4d44-880c-8858070b65f6"
      },
      "source": [
        "y = iris.target \n",
        "\n",
        "y.shape"
      ],
      "execution_count": 165,
      "outputs": [
        {
          "output_type": "execute_result",
          "data": {
            "text/plain": [
              "(150,)"
            ]
          },
          "metadata": {},
          "execution_count": 165
        }
      ]
    },
    {
      "cell_type": "code",
      "metadata": {
        "id": "3By1iWHhfSZh"
      },
      "source": [
        "X3 = df.iloc[:, 0:5]  \n",
        "Y3 = df['species']"
      ],
      "execution_count": 166,
      "outputs": []
    },
    {
      "cell_type": "code",
      "metadata": {
        "colab": {
          "base_uri": "https://localhost:8080/"
        },
        "id": "mCksNSbXJ7-C",
        "outputId": "a20bd10e-53d8-4210-a5d0-646e6686c9f3"
      },
      "source": [
        "X3.shape"
      ],
      "execution_count": 167,
      "outputs": [
        {
          "output_type": "execute_result",
          "data": {
            "text/plain": [
              "(150, 5)"
            ]
          },
          "metadata": {},
          "execution_count": 167
        }
      ]
    },
    {
      "cell_type": "markdown",
      "metadata": {
        "id": "PhTuXi3lPcRu"
      },
      "source": [
        "Splittting of dataset"
      ]
    },
    {
      "cell_type": "code",
      "metadata": {
        "colab": {
          "base_uri": "https://localhost:8080/"
        },
        "id": "yAPFZgwhfC2W",
        "outputId": "b39c2186-d174-49cc-cc9c-db1f72402046"
      },
      "source": [
        "X3_train, X3_test, y_train, y_test = train_test_split(X3, Y3, test_size=0.4, random_state=0)\n",
        "print(\" X3_train\",X3_train)\n",
        "print(\"X3_test\",X3_test)\n",
        "print(\"y_train\",y_train)\n",
        "print(\"y_test\",y_test)"
      ],
      "execution_count": 168,
      "outputs": [
        {
          "output_type": "stream",
          "name": "stdout",
          "text": [
            " X3_train      sepal length (cm)  sepal width (cm)  ...  petal width (cm)  species\n",
            "85                 6.0               3.4  ...               1.6        1\n",
            "30                 4.8               3.1  ...               0.2        0\n",
            "101                5.8               2.7  ...               1.9        2\n",
            "94                 5.6               2.7  ...               1.3        1\n",
            "64                 5.6               2.9  ...               1.3        1\n",
            "..                 ...               ...  ...               ...      ...\n",
            "9                  4.9               3.1  ...               0.1        0\n",
            "103                6.3               2.9  ...               1.8        2\n",
            "67                 5.8               2.7  ...               1.0        1\n",
            "117                7.7               3.8  ...               2.2        2\n",
            "47                 4.6               3.2  ...               0.2        0\n",
            "\n",
            "[90 rows x 5 columns]\n",
            "X3_test      sepal length (cm)  sepal width (cm)  ...  petal width (cm)  species\n",
            "114                5.8               2.8  ...               2.4        2\n",
            "62                 6.0               2.2  ...               1.0        1\n",
            "33                 5.5               4.2  ...               0.2        0\n",
            "107                7.3               2.9  ...               1.8        2\n",
            "7                  5.0               3.4  ...               0.2        0\n",
            "100                6.3               3.3  ...               2.5        2\n",
            "40                 5.0               3.5  ...               0.3        0\n",
            "86                 6.7               3.1  ...               1.5        1\n",
            "76                 6.8               2.8  ...               1.4        1\n",
            "71                 6.1               2.8  ...               1.3        1\n",
            "134                6.1               2.6  ...               1.4        2\n",
            "51                 6.4               3.2  ...               1.5        1\n",
            "73                 6.1               2.8  ...               1.2        1\n",
            "54                 6.5               2.8  ...               1.5        1\n",
            "63                 6.1               2.9  ...               1.4        1\n",
            "37                 4.9               3.6  ...               0.1        0\n",
            "78                 6.0               2.9  ...               1.5        1\n",
            "90                 5.5               2.6  ...               1.2        1\n",
            "45                 4.8               3.0  ...               0.3        0\n",
            "16                 5.4               3.9  ...               0.4        0\n",
            "121                5.6               2.8  ...               2.0        2\n",
            "66                 5.6               3.0  ...               1.5        1\n",
            "24                 4.8               3.4  ...               0.2        0\n",
            "8                  4.4               2.9  ...               0.2        0\n",
            "126                6.2               2.8  ...               1.8        2\n",
            "22                 4.6               3.6  ...               0.2        0\n",
            "44                 5.1               3.8  ...               0.4        0\n",
            "97                 6.2               2.9  ...               1.3        1\n",
            "93                 5.0               2.3  ...               1.0        1\n",
            "26                 5.0               3.4  ...               0.4        0\n",
            "137                6.4               3.1  ...               1.8        2\n",
            "84                 5.4               3.0  ...               1.5        1\n",
            "27                 5.2               3.5  ...               0.2        0\n",
            "127                6.1               3.0  ...               1.8        2\n",
            "132                6.4               2.8  ...               2.2        2\n",
            "59                 5.2               2.7  ...               1.4        1\n",
            "18                 5.7               3.8  ...               0.3        0\n",
            "83                 6.0               2.7  ...               1.6        1\n",
            "61                 5.9               3.0  ...               1.5        1\n",
            "92                 5.8               2.6  ...               1.2        1\n",
            "112                6.8               3.0  ...               2.1        2\n",
            "2                  4.7               3.2  ...               0.2        0\n",
            "141                6.9               3.1  ...               2.3        2\n",
            "43                 5.0               3.5  ...               0.6        0\n",
            "10                 5.4               3.7  ...               0.2        0\n",
            "60                 5.0               2.0  ...               1.0        1\n",
            "116                6.5               3.0  ...               1.8        2\n",
            "144                6.7               3.3  ...               2.5        2\n",
            "119                6.0               2.2  ...               1.5        2\n",
            "108                6.7               2.5  ...               1.8        2\n",
            "69                 5.6               2.5  ...               1.1        1\n",
            "135                7.7               3.0  ...               2.3        2\n",
            "56                 6.3               3.3  ...               1.6        1\n",
            "80                 5.5               2.4  ...               1.1        1\n",
            "123                6.3               2.7  ...               1.8        2\n",
            "133                6.3               2.8  ...               1.5        2\n",
            "106                4.9               2.5  ...               1.7        2\n",
            "146                6.3               2.5  ...               1.9        2\n",
            "50                 7.0               3.2  ...               1.4        1\n",
            "147                6.5               3.0  ...               2.0        2\n",
            "\n",
            "[60 rows x 5 columns]\n",
            "y_train 85     1\n",
            "30     0\n",
            "101    2\n",
            "94     1\n",
            "64     1\n",
            "      ..\n",
            "9      0\n",
            "103    2\n",
            "67     1\n",
            "117    2\n",
            "47     0\n",
            "Name: species, Length: 90, dtype: int64\n",
            "y_test 114    2\n",
            "62     1\n",
            "33     0\n",
            "107    2\n",
            "7      0\n",
            "100    2\n",
            "40     0\n",
            "86     1\n",
            "76     1\n",
            "71     1\n",
            "134    2\n",
            "51     1\n",
            "73     1\n",
            "54     1\n",
            "63     1\n",
            "37     0\n",
            "78     1\n",
            "90     1\n",
            "45     0\n",
            "16     0\n",
            "121    2\n",
            "66     1\n",
            "24     0\n",
            "8      0\n",
            "126    2\n",
            "22     0\n",
            "44     0\n",
            "97     1\n",
            "93     1\n",
            "26     0\n",
            "137    2\n",
            "84     1\n",
            "27     0\n",
            "127    2\n",
            "132    2\n",
            "59     1\n",
            "18     0\n",
            "83     1\n",
            "61     1\n",
            "92     1\n",
            "112    2\n",
            "2      0\n",
            "141    2\n",
            "43     0\n",
            "10     0\n",
            "60     1\n",
            "116    2\n",
            "144    2\n",
            "119    2\n",
            "108    2\n",
            "69     1\n",
            "135    2\n",
            "56     1\n",
            "80     1\n",
            "123    2\n",
            "133    2\n",
            "106    2\n",
            "146    2\n",
            "50     1\n",
            "147    2\n",
            "Name: species, dtype: int64\n"
          ]
        }
      ]
    },
    {
      "cell_type": "markdown",
      "metadata": {
        "id": "PnylA-fJPic5"
      },
      "source": [
        "K MEANS ALGORITHM"
      ]
    },
    {
      "cell_type": "code",
      "metadata": {
        "id": "QeABIfvtfhyp"
      },
      "source": [
        "km = KMeans(n_clusters=3, max_iter =1000)"
      ],
      "execution_count": 169,
      "outputs": []
    },
    {
      "cell_type": "code",
      "metadata": {
        "colab": {
          "base_uri": "https://localhost:8080/"
        },
        "id": "QOav6S7EfndM",
        "outputId": "f72102e0-0bae-484e-df6b-24935dc67d68"
      },
      "source": [
        "km.fit(iris.data)"
      ],
      "execution_count": 170,
      "outputs": [
        {
          "output_type": "execute_result",
          "data": {
            "text/plain": [
              "KMeans(algorithm='auto', copy_x=True, init='k-means++', max_iter=1000,\n",
              "       n_clusters=3, n_init=10, n_jobs=None, precompute_distances='auto',\n",
              "       random_state=None, tol=0.0001, verbose=0)"
            ]
          },
          "metadata": {},
          "execution_count": 170
        }
      ]
    },
    {
      "cell_type": "code",
      "metadata": {
        "colab": {
          "base_uri": "https://localhost:8080/"
        },
        "id": "oe_BCdY8frDa",
        "outputId": "f657813b-21bc-4c74-acdc-1cf3631dc072"
      },
      "source": [
        "km.cluster_centers_"
      ],
      "execution_count": 171,
      "outputs": [
        {
          "output_type": "execute_result",
          "data": {
            "text/plain": [
              "array([[5.9016129 , 2.7483871 , 4.39354839, 1.43387097],\n",
              "       [5.006     , 3.428     , 1.462     , 0.246     ],\n",
              "       [6.85      , 3.07368421, 5.74210526, 2.07105263]])"
            ]
          },
          "metadata": {},
          "execution_count": 171
        }
      ]
    },
    {
      "cell_type": "code",
      "metadata": {
        "colab": {
          "base_uri": "https://localhost:8080/"
        },
        "id": "WL6MPdLdf2SN",
        "outputId": "e113cc88-14b3-4c04-b8b8-071a618be843"
      },
      "source": [
        "km.labels_"
      ],
      "execution_count": 172,
      "outputs": [
        {
          "output_type": "execute_result",
          "data": {
            "text/plain": [
              "array([1, 1, 1, 1, 1, 1, 1, 1, 1, 1, 1, 1, 1, 1, 1, 1, 1, 1, 1, 1, 1, 1,\n",
              "       1, 1, 1, 1, 1, 1, 1, 1, 1, 1, 1, 1, 1, 1, 1, 1, 1, 1, 1, 1, 1, 1,\n",
              "       1, 1, 1, 1, 1, 1, 0, 0, 2, 0, 0, 0, 0, 0, 0, 0, 0, 0, 0, 0, 0, 0,\n",
              "       0, 0, 0, 0, 0, 0, 0, 0, 0, 0, 0, 2, 0, 0, 0, 0, 0, 0, 0, 0, 0, 0,\n",
              "       0, 0, 0, 0, 0, 0, 0, 0, 0, 0, 0, 0, 2, 0, 2, 2, 2, 2, 0, 2, 2, 2,\n",
              "       2, 2, 2, 0, 0, 2, 2, 2, 2, 0, 2, 0, 2, 0, 2, 2, 0, 0, 2, 2, 2, 2,\n",
              "       2, 0, 2, 2, 2, 2, 0, 2, 2, 2, 0, 2, 2, 2, 0, 2, 2, 0], dtype=int32)"
            ]
          },
          "metadata": {},
          "execution_count": 172
        }
      ]
    },
    {
      "cell_type": "code",
      "metadata": {
        "colab": {
          "base_uri": "https://localhost:8080/",
          "height": 417
        },
        "id": "LM1rHEJmf682",
        "outputId": "468e5e52-94e2-4b41-ace2-602b45c0a7aa"
      },
      "source": [
        "df[' K Mean predicted label'] = km.labels_\n",
        "df"
      ],
      "execution_count": 173,
      "outputs": [
        {
          "output_type": "execute_result",
          "data": {
            "text/html": [
              "<div>\n",
              "<style scoped>\n",
              "    .dataframe tbody tr th:only-of-type {\n",
              "        vertical-align: middle;\n",
              "    }\n",
              "\n",
              "    .dataframe tbody tr th {\n",
              "        vertical-align: top;\n",
              "    }\n",
              "\n",
              "    .dataframe thead th {\n",
              "        text-align: right;\n",
              "    }\n",
              "</style>\n",
              "<table border=\"1\" class=\"dataframe\">\n",
              "  <thead>\n",
              "    <tr style=\"text-align: right;\">\n",
              "      <th></th>\n",
              "      <th>sepal length (cm)</th>\n",
              "      <th>sepal width (cm)</th>\n",
              "      <th>petal length (cm)</th>\n",
              "      <th>petal width (cm)</th>\n",
              "      <th>species</th>\n",
              "      <th>K Mean predicted label</th>\n",
              "    </tr>\n",
              "  </thead>\n",
              "  <tbody>\n",
              "    <tr>\n",
              "      <th>0</th>\n",
              "      <td>5.1</td>\n",
              "      <td>3.5</td>\n",
              "      <td>1.4</td>\n",
              "      <td>0.2</td>\n",
              "      <td>0</td>\n",
              "      <td>1</td>\n",
              "    </tr>\n",
              "    <tr>\n",
              "      <th>1</th>\n",
              "      <td>4.9</td>\n",
              "      <td>3.0</td>\n",
              "      <td>1.4</td>\n",
              "      <td>0.2</td>\n",
              "      <td>0</td>\n",
              "      <td>1</td>\n",
              "    </tr>\n",
              "    <tr>\n",
              "      <th>2</th>\n",
              "      <td>4.7</td>\n",
              "      <td>3.2</td>\n",
              "      <td>1.3</td>\n",
              "      <td>0.2</td>\n",
              "      <td>0</td>\n",
              "      <td>1</td>\n",
              "    </tr>\n",
              "    <tr>\n",
              "      <th>3</th>\n",
              "      <td>4.6</td>\n",
              "      <td>3.1</td>\n",
              "      <td>1.5</td>\n",
              "      <td>0.2</td>\n",
              "      <td>0</td>\n",
              "      <td>1</td>\n",
              "    </tr>\n",
              "    <tr>\n",
              "      <th>4</th>\n",
              "      <td>5.0</td>\n",
              "      <td>3.6</td>\n",
              "      <td>1.4</td>\n",
              "      <td>0.2</td>\n",
              "      <td>0</td>\n",
              "      <td>1</td>\n",
              "    </tr>\n",
              "    <tr>\n",
              "      <th>...</th>\n",
              "      <td>...</td>\n",
              "      <td>...</td>\n",
              "      <td>...</td>\n",
              "      <td>...</td>\n",
              "      <td>...</td>\n",
              "      <td>...</td>\n",
              "    </tr>\n",
              "    <tr>\n",
              "      <th>145</th>\n",
              "      <td>6.7</td>\n",
              "      <td>3.0</td>\n",
              "      <td>5.2</td>\n",
              "      <td>2.3</td>\n",
              "      <td>2</td>\n",
              "      <td>2</td>\n",
              "    </tr>\n",
              "    <tr>\n",
              "      <th>146</th>\n",
              "      <td>6.3</td>\n",
              "      <td>2.5</td>\n",
              "      <td>5.0</td>\n",
              "      <td>1.9</td>\n",
              "      <td>2</td>\n",
              "      <td>0</td>\n",
              "    </tr>\n",
              "    <tr>\n",
              "      <th>147</th>\n",
              "      <td>6.5</td>\n",
              "      <td>3.0</td>\n",
              "      <td>5.2</td>\n",
              "      <td>2.0</td>\n",
              "      <td>2</td>\n",
              "      <td>2</td>\n",
              "    </tr>\n",
              "    <tr>\n",
              "      <th>148</th>\n",
              "      <td>6.2</td>\n",
              "      <td>3.4</td>\n",
              "      <td>5.4</td>\n",
              "      <td>2.3</td>\n",
              "      <td>2</td>\n",
              "      <td>2</td>\n",
              "    </tr>\n",
              "    <tr>\n",
              "      <th>149</th>\n",
              "      <td>5.9</td>\n",
              "      <td>3.0</td>\n",
              "      <td>5.1</td>\n",
              "      <td>1.8</td>\n",
              "      <td>2</td>\n",
              "      <td>0</td>\n",
              "    </tr>\n",
              "  </tbody>\n",
              "</table>\n",
              "<p>150 rows × 6 columns</p>\n",
              "</div>"
            ],
            "text/plain": [
              "     sepal length (cm)  sepal width (cm)  ...  species   K Mean predicted label\n",
              "0                  5.1               3.5  ...        0                        1\n",
              "1                  4.9               3.0  ...        0                        1\n",
              "2                  4.7               3.2  ...        0                        1\n",
              "3                  4.6               3.1  ...        0                        1\n",
              "4                  5.0               3.6  ...        0                        1\n",
              "..                 ...               ...  ...      ...                      ...\n",
              "145                6.7               3.0  ...        2                        2\n",
              "146                6.3               2.5  ...        2                        0\n",
              "147                6.5               3.0  ...        2                        2\n",
              "148                6.2               3.4  ...        2                        2\n",
              "149                5.9               3.0  ...        2                        0\n",
              "\n",
              "[150 rows x 6 columns]"
            ]
          },
          "metadata": {},
          "execution_count": 173
        }
      ]
    },
    {
      "cell_type": "code",
      "metadata": {
        "id": "IR4dVMFtAAe1"
      },
      "source": [
        "km4 = KMeans(n_clusters=4, max_iter =1000)"
      ],
      "execution_count": 174,
      "outputs": []
    },
    {
      "cell_type": "code",
      "metadata": {
        "colab": {
          "base_uri": "https://localhost:8080/"
        },
        "id": "WjJz4gXOARGb",
        "outputId": "3626adba-454a-4411-dc57-0ae1c0b220af"
      },
      "source": [
        "km4.fit(X3)"
      ],
      "execution_count": 175,
      "outputs": [
        {
          "output_type": "execute_result",
          "data": {
            "text/plain": [
              "KMeans(algorithm='auto', copy_x=True, init='k-means++', max_iter=1000,\n",
              "       n_clusters=4, n_init=10, n_jobs=None, precompute_distances='auto',\n",
              "       random_state=None, tol=0.0001, verbose=0)"
            ]
          },
          "metadata": {},
          "execution_count": 175
        }
      ]
    },
    {
      "cell_type": "code",
      "metadata": {
        "colab": {
          "base_uri": "https://localhost:8080/"
        },
        "id": "lpp1kQSPAVsW",
        "outputId": "fb41c9b2-b229-4c6e-d345-ffd8f9cca62d"
      },
      "source": [
        "km4.cluster_centers_"
      ],
      "execution_count": 176,
      "outputs": [
        {
          "output_type": "execute_result",
          "data": {
            "text/plain": [
              "array([[5.006     , 3.428     , 1.462     , 0.246     , 0.        ],\n",
              "       [7.38571429, 3.13571429, 6.22857143, 2.08571429, 2.        ],\n",
              "       [5.87959184, 2.75306122, 4.23673469, 1.32244898, 1.02040816],\n",
              "       [6.34324324, 2.92972973, 5.29189189, 1.98918919, 1.94594595]])"
            ]
          },
          "metadata": {},
          "execution_count": 176
        }
      ]
    },
    {
      "cell_type": "markdown",
      "metadata": {
        "id": "qc_UWPD-xL-2"
      },
      "source": [
        "MAKING AND PLOTTING BLOBS FOR IRIS DATASET"
      ]
    },
    {
      "cell_type": "code",
      "metadata": {
        "colab": {
          "base_uri": "https://localhost:8080/",
          "height": 265
        },
        "id": "gI5ItQz8uGEr",
        "outputId": "2f767894-3830-4587-9a46-2e347b7f28dc"
      },
      "source": [
        "from sklearn.datasets.samples_generator import make_blobs\n",
        "X1, y_true = make_blobs(n_samples=300, centers=4,\n",
        "                       cluster_std=0.60, random_state=0)\n",
        "plt.scatter(X1[:, 0], X1[:, 1], s=50);"
      ],
      "execution_count": 179,
      "outputs": [
        {
          "output_type": "display_data",
          "data": {
            "image/png": "[encoded data removed]",
            "text/plain": [
              "<Figure size 432x288 with 1 Axes>"
            ]
          },
          "metadata": {
            "needs_background": "light"
          }
        }
      ]
    },
    {
      "cell_type": "markdown",
      "metadata": {
        "id": "1foitdrCxDJX"
      },
      "source": [
        "PRINTING LABELS FOR NEW GIVEN INSTANCES"
      ]
    },
    {
      "cell_type": "code",
      "metadata": {
        "colab": {
          "base_uri": "https://localhost:8080/"
        },
        "id": "7SD91FIKxP8h",
        "outputId": "99d3e174-138b-48f2-87ce-0bc6d93c6de8"
      },
      "source": [
        "X_new = np.array([[0, 2], [3, 2], [-3, 3], [-3, 2.5]])\n",
        "X_new = X_new.reshape(-1,1)\n",
        "X_new.shape"
      ],
      "execution_count": 180,
      "outputs": [
        {
          "output_type": "execute_result",
          "data": {
            "text/plain": [
              "(8, 1)"
            ]
          },
          "metadata": {},
          "execution_count": 180
        }
      ]
    },
    {
      "cell_type": "code",
      "metadata": {
        "colab": {
          "base_uri": "https://localhost:8080/",
          "height": 265
        },
        "id": "ETY_Y2BuydQu",
        "outputId": "bd434eb9-bdca-4590-c1b1-db6f58abc40b"
      },
      "source": [
        "from sklearn.datasets.samples_generator import make_blobs\n",
        "X_vor, y_vor = make_blobs(n_samples=2000, centers= np.array(\n",
        "    [[ 0.2,  2.3],\n",
        "     [-1.5 ,  2.3],\n",
        "     [-2.8,  1.8],\n",
        "     [-2.8,  2.8],\n",
        "     [-2.8,  1.3]]), cluster_std= np.array([0.4, 0.3, 0.1, 0.1, 0.1]), random_state=0)\n",
        "plt.scatter(X_vor[:, 0], X_vor[:, 1], s=50);"
      ],
      "execution_count": 181,
      "outputs": [
        {
          "output_type": "display_data",
          "data": {
            "image/png": "[encoded data removed]",
            "text/plain": [
              "<Figure size 432x288 with 1 Axes>"
            ]
          },
          "metadata": {
            "needs_background": "light"
          }
        }
      ]
    },
    {
      "cell_type": "markdown",
      "metadata": {
        "id": "uICNLxLtPqPI"
      },
      "source": [
        "VORONOI PLOT"
      ]
    },
    {
      "cell_type": "code",
      "metadata": {
        "id": "pFrw7_lC_VmN"
      },
      "source": [
        "km8 = KMeans(n_clusters=8, max_iter =1000)"
      ],
      "execution_count": 182,
      "outputs": []
    },
    {
      "cell_type": "code",
      "metadata": {
        "id": "EFyZFx8w_akX"
      },
      "source": [
        "#km8.fit(iris.data)"
      ],
      "execution_count": 183,
      "outputs": []
    },
    {
      "cell_type": "code",
      "metadata": {
        "colab": {
          "base_uri": "https://localhost:8080/"
        },
        "id": "28BKAilPM2NW",
        "outputId": "0868bf56-dd2f-45cb-caad-e92fdb2d5d8a"
      },
      "source": [
        "km8.fit(X_vor)"
      ],
      "execution_count": 184,
      "outputs": [
        {
          "output_type": "execute_result",
          "data": {
            "text/plain": [
              "KMeans(algorithm='auto', copy_x=True, init='k-means++', max_iter=1000,\n",
              "       n_clusters=8, n_init=10, n_jobs=None, precompute_distances='auto',\n",
              "       random_state=None, tol=0.0001, verbose=0)"
            ]
          },
          "metadata": {},
          "execution_count": 184
        }
      ]
    },
    {
      "cell_type": "code",
      "metadata": {
        "id": "vpB31IBM_fVq"
      },
      "source": [
        "centers2= km8.cluster_centers_"
      ],
      "execution_count": 185,
      "outputs": []
    },
    {
      "cell_type": "code",
      "metadata": {
        "colab": {
          "base_uri": "https://localhost:8080/",
          "height": 282
        },
        "id": "SldftEczNDZf",
        "outputId": "3a5a1852-95da-4673-fab4-2eed92d5a07a"
      },
      "source": [
        "from scipy.spatial import Voronoi, voronoi_plot_2d\n",
        "vor = Voronoi(centers2) \n",
        "voronoi_plot_2d(vor) \n",
        "plt.scatter(X_vor[:, 0], X_vor[:, 1], c=y_vor, s=5, cmap='summer') "
      ],
      "execution_count": 186,
      "outputs": [
        {
          "output_type": "execute_result",
          "data": {
            "text/plain": [
              "<matplotlib.collections.PathCollection at 0x7f43c02e0e50>"
            ]
          },
          "metadata": {},
          "execution_count": 186
        },
        {
          "output_type": "display_data",
          "data": {
            "image/png": "[encoded data removed]",
            "text/plain": [
              "<Figure size 432x288 with 1 Axes>"
            ]
          },
          "metadata": {
            "needs_background": "light"
          }
        }
      ]
    },
    {
      "cell_type": "code",
      "metadata": {
        "colab": {
          "base_uri": "https://localhost:8080/"
        },
        "id": "gKVDgVUK_mDh",
        "outputId": "8f657dee-643b-4ba3-bf54-915c8bb819c2"
      },
      "source": [
        "km8.labels_"
      ],
      "execution_count": 187,
      "outputs": [
        {
          "output_type": "execute_result",
          "data": {
            "text/plain": [
              "array([4, 5, 5, ..., 1, 4, 6], dtype=int32)"
            ]
          },
          "metadata": {},
          "execution_count": 187
        }
      ]
    },
    {
      "cell_type": "code",
      "metadata": {
        "colab": {
          "base_uri": "https://localhost:8080/",
          "height": 265
        },
        "id": "gf5D-f16_vYM",
        "outputId": "380f2515-145b-403c-c3e7-97bc62b664b4"
      },
      "source": [
        "from sklearn.datasets.samples_generator import make_blobs\n",
        "X_new, y_true = make_blobs(n_samples=300, centers=8,\n",
        "                       cluster_std=0.60, random_state=0)\n",
        "plt.scatter(X_new[:, 0], X_new[:, 1], s=50);"
      ],
      "execution_count": 188,
      "outputs": [
        {
          "output_type": "display_data",
          "data": {
            "image/png": "[encoded data removed]",
            "text/plain": [
              "<Figure size 432x288 with 1 Axes>"
            ]
          },
          "metadata": {
            "needs_background": "light"
          }
        }
      ]
    },
    {
      "cell_type": "code",
      "metadata": {
        "id": "w9xXOvjzCIXK"
      },
      "source": [
        "x = df.iloc[:, [0, 1, 2, 3]].values\n",
        "from sklearn.cluster import KMeans\n",
        "wcss = []\n",
        "\n",
        "for i in range(1, 11):\n",
        "    kmeans = KMeans(n_clusters = i, init = 'k-means++', max_iter = 300, n_init = 10, random_state = 0)\n",
        "    kmeans.fit(x)\n",
        "    wcss.append(kmeans.inertia_)"
      ],
      "execution_count": 189,
      "outputs": []
    },
    {
      "cell_type": "code",
      "metadata": {
        "id": "ectqiLUYBbRF"
      },
      "source": [
        "kmeans = KMeans(n_clusters = 3, init = 'k-means++', max_iter = 300, n_init = 10, random_state = 0)\n",
        "y_kmeans = kmeans.fit_predict(x)"
      ],
      "execution_count": 190,
      "outputs": []
    },
    {
      "cell_type": "code",
      "metadata": {
        "colab": {
          "base_uri": "https://localhost:8080/",
          "height": 285
        },
        "id": "A3HxuIENA5pM",
        "outputId": "5178427f-6cbb-4a61-b014-3cd29e0917a1"
      },
      "source": [
        "#Visualising the clusters\n",
        "plt.scatter(x[y_kmeans == 0, 0], x[y_kmeans == 0, 1], s = 100, c = 'skyblue', label = 'Iris-setosa')\n",
        "plt.scatter(x[y_kmeans == 1, 0], x[y_kmeans == 1, 1], s = 100, c = 'yellow', label = 'Iris-versicolour')\n",
        "plt.scatter(x[y_kmeans == 2, 0], x[y_kmeans == 2, 1], s = 100, c = 'lime', label = 'Iris-virginica')\n",
        "\n",
        "#Plotting the centroids of the clusters\n",
        "plt.scatter(kmeans.cluster_centers_[:, 0], kmeans.cluster_centers_[:,1], s = 100, c = 'black', label = 'Centroids')\n",
        "\n",
        "plt.legend()"
      ],
      "execution_count": 191,
      "outputs": [
        {
          "output_type": "execute_result",
          "data": {
            "text/plain": [
              "<matplotlib.legend.Legend at 0x7f43c027f210>"
            ]
          },
          "metadata": {},
          "execution_count": 191
        },
        {
          "output_type": "display_data",
          "data": {
            "image/png": "[encoded data removed]",
            "text/plain": [
              "<Figure size 432x288 with 1 Axes>"
            ]
          },
          "metadata": {
            "needs_background": "light"
          }
        }
      ]
    },
    {
      "cell_type": "code",
      "metadata": {
        "id": "q8Bsj04IDMP2"
      },
      "source": [
        "kmeans2 = KMeans(n_clusters = 8, init = 'k-means++', max_iter = 300, n_init = 10, random_state = 0)\n",
        "y_kmeans2 = kmeans2.fit_predict(x)"
      ],
      "execution_count": 192,
      "outputs": []
    },
    {
      "cell_type": "code",
      "metadata": {
        "colab": {
          "base_uri": "https://localhost:8080/"
        },
        "id": "hgPLOymZEDhJ",
        "outputId": "9f0f2c92-381a-4ee6-fe7b-71a5703628b9"
      },
      "source": [
        "kmeans2.cluster_centers_"
      ],
      "execution_count": 193,
      "outputs": [
        {
          "output_type": "execute_result",
          "data": {
            "text/plain": [
              "array([[4.70454545, 3.12272727, 1.41363636, 0.2       ],\n",
              "       [6.03684211, 2.70526316, 5.        , 1.77894737],\n",
              "       [7.475     , 3.125     , 6.3       , 2.05      ],\n",
              "       [5.2       , 2.36666667, 3.38333333, 1.01666667],\n",
              "       [5.62272727, 2.70909091, 4.11818182, 1.28636364],\n",
              "       [5.24285714, 3.66785714, 1.5       , 0.28214286],\n",
              "       [6.56818182, 3.08636364, 5.53636364, 2.16363636],\n",
              "       [6.44210526, 2.97894737, 4.59473684, 1.43157895]])"
            ]
          },
          "metadata": {},
          "execution_count": 193
        }
      ]
    },
    {
      "cell_type": "code",
      "metadata": {
        "colab": {
          "base_uri": "https://localhost:8080/"
        },
        "id": "J9ys_TgIEJJp",
        "outputId": "a52f1f84-3b3b-4ae2-d29a-d78c7f1e3c4c"
      },
      "source": [
        "kmeans2.labels_"
      ],
      "execution_count": 194,
      "outputs": [
        {
          "output_type": "execute_result",
          "data": {
            "text/plain": [
              "array([5, 0, 0, 0, 5, 5, 0, 5, 0, 0, 5, 0, 0, 0, 5, 5, 5, 5, 5, 5, 5, 5,\n",
              "       0, 5, 0, 0, 5, 5, 5, 0, 0, 5, 5, 5, 0, 0, 5, 5, 0, 5, 5, 0, 0, 5,\n",
              "       5, 0, 5, 0, 5, 0, 7, 7, 7, 4, 7, 4, 7, 3, 7, 4, 3, 4, 4, 7, 4, 7,\n",
              "       4, 4, 1, 4, 1, 4, 1, 7, 7, 7, 7, 7, 7, 3, 4, 3, 4, 1, 4, 7, 7, 7,\n",
              "       4, 4, 4, 7, 4, 3, 4, 4, 4, 7, 3, 4, 6, 1, 2, 6, 6, 2, 4, 2, 6, 2,\n",
              "       6, 1, 6, 1, 1, 6, 6, 2, 2, 1, 6, 1, 2, 1, 6, 2, 1, 1, 6, 2, 2, 2,\n",
              "       6, 1, 1, 2, 6, 6, 1, 6, 6, 6, 1, 6, 6, 6, 1, 6, 6, 1], dtype=int32)"
            ]
          },
          "metadata": {},
          "execution_count": 194
        }
      ]
    },
    {
      "cell_type": "markdown",
      "metadata": {
        "id": "bPE6pPLYQB7r"
      },
      "source": [
        "CALCULATING VALUE K USING ELBOW METHOD"
      ]
    },
    {
      "cell_type": "code",
      "metadata": {
        "colab": {
          "base_uri": "https://localhost:8080/",
          "height": 295
        },
        "id": "WoCmqyEOAM1G",
        "outputId": "ea16b017-3370-4939-d42f-f08ad513bf61"
      },
      "source": [
        "wcss = []\n",
        "\n",
        "for i in range(1, 11):\n",
        "    kmeans = KMeans(n_clusters = i, init = 'k-means++', max_iter = 300, n_init = 10, random_state = 0)\n",
        "    kmeans.fit(iris.data)\n",
        "    wcss.append(kmeans.inertia_)\n",
        "    \n",
        "#Plotting the results onto a line graph, allowing us to observe 'The elbow'\n",
        "plt.plot(range(1, 11), wcss)\n",
        "plt.title('The elbow method')\n",
        "plt.xlabel('Number of clusters')\n",
        "plt.ylabel('WCSS') #within cluster sum of squares\n",
        "plt.show()"
      ],
      "execution_count": 195,
      "outputs": [
        {
          "output_type": "display_data",
          "data": {
            "image/png": "[encoded data removed]",
            "text/plain": [
              "<Figure size 432x288 with 1 Axes>"
            ]
          },
          "metadata": {
            "needs_background": "light"
          }
        }
      ]
    },
    {
      "cell_type": "code",
      "metadata": {
        "id": "OwozkXLj3ycg"
      },
      "source": [
        "\n",
        "k=3\n",
        "kmeans3 = KMeans(n_clusters=k, init='random', n_init=1, random_state=0, max_iter=1)\n",
        "kmeans3.fit(x)\n",
        "y_kmeans3 = kmeans3.predict(x)\n",
        " # cluster index for each observation centers = kmeans.cluster_centers_ # cluster center coordinates plt.scatter(X[:, 0], X[:, 1], c=y_kmeans, s=5, cmap='summer') plt.scatter(centers[:, 0], centers[:, 1], c='black', s=100, alpha=0.5)\n",
        "\n"
      ],
      "execution_count": 235,
      "outputs": []
    },
    {
      "cell_type": "code",
      "metadata": {
        "id": "w8btKs95xbjR"
      },
      "source": [
        "k=8\n",
        "kmeans8 = KMeans(n_clusters=k, init='random', n_init=1, random_state=0, max_iter=1)\n",
        "kmeans8.fit(x)\n",
        "y_kmeans8 = kmeans8.predict(x)"
      ],
      "execution_count": 236,
      "outputs": []
    },
    {
      "cell_type": "code",
      "metadata": {
        "id": "qnWx-BD-6AwX"
      },
      "source": [
        "centers = kmeans3.cluster_centers_"
      ],
      "execution_count": 237,
      "outputs": []
    },
    {
      "cell_type": "code",
      "metadata": {
        "id": "5XU_IERVxnzS"
      },
      "source": [
        "centers = kmeans8.cluster_centers_"
      ],
      "execution_count": 239,
      "outputs": []
    },
    {
      "cell_type": "code",
      "metadata": {
        "colab": {
          "base_uri": "https://localhost:8080/"
        },
        "id": "ygtJHi5M1esg",
        "outputId": "616cd7fe-fc83-4341-8173-4e0a6d91604a"
      },
      "source": [
        "print(kmeans3.inertia_)"
      ],
      "execution_count": 238,
      "outputs": [
        {
          "output_type": "stream",
          "name": "stdout",
          "text": [
            "85.6409149170066\n"
          ]
        }
      ]
    },
    {
      "cell_type": "code",
      "metadata": {
        "colab": {
          "base_uri": "https://localhost:8080/"
        },
        "id": "EXr_xQhmxtX2",
        "outputId": "8e1128d6-2f52-4b5d-b2e2-33310d67c750"
      },
      "source": [
        "print(kmeans8.inertia_)"
      ],
      "execution_count": 240,
      "outputs": [
        {
          "output_type": "stream",
          "name": "stdout",
          "text": [
            "40.61295373059778\n"
          ]
        }
      ]
    },
    {
      "cell_type": "markdown",
      "metadata": {
        "id": "9jBRhXNYav-U"
      },
      "source": [
        "GMM"
      ]
    },
    {
      "cell_type": "code",
      "metadata": {
        "colab": {
          "base_uri": "https://localhost:8080/"
        },
        "id": "64k2sIflbyuN",
        "outputId": "729c053f-60bb-4040-efe2-c0c9f1565107"
      },
      "source": [
        "from sklearn.mixture import GaussianMixture\n",
        "nclusters=4\n",
        "gmm = GaussianMixture(n_components=nclusters)\n",
        "gmm.fit(x)\n",
        "\n",
        "# predict the cluster for each data point\n",
        "y_cluster_gmm = gmm.predict(x)\n",
        "y_cluster_gmm"
      ],
      "execution_count": 199,
      "outputs": [
        {
          "output_type": "execute_result",
          "data": {
            "text/plain": [
              "array([1, 1, 1, 1, 1, 1, 1, 1, 1, 1, 1, 1, 1, 1, 1, 1, 1, 1, 1, 1, 1, 1,\n",
              "       1, 1, 1, 1, 1, 1, 1, 1, 1, 1, 1, 1, 1, 1, 1, 1, 1, 1, 1, 1, 1, 1,\n",
              "       1, 1, 1, 1, 1, 1, 2, 0, 2, 0, 2, 0, 0, 0, 2, 0, 0, 0, 0, 0, 0, 2,\n",
              "       0, 0, 2, 0, 2, 0, 2, 0, 0, 2, 2, 2, 0, 0, 0, 0, 0, 3, 0, 0, 2, 2,\n",
              "       0, 0, 0, 0, 0, 0, 0, 0, 0, 0, 0, 0, 3, 2, 3, 3, 3, 3, 3, 3, 3, 3,\n",
              "       3, 3, 3, 2, 3, 3, 3, 3, 3, 2, 3, 3, 3, 2, 3, 3, 2, 2, 3, 3, 3, 3,\n",
              "       3, 2, 3, 3, 3, 3, 2, 3, 3, 3, 2, 3, 3, 3, 3, 3, 3, 2])"
            ]
          },
          "metadata": {},
          "execution_count": 199
        }
      ]
    },
    {
      "cell_type": "code",
      "metadata": {
        "id": "VeD2OGGznYYW"
      },
      "source": [
        "df_data = pd.DataFrame(data=iris.data, columns=[\"sepal_length\", \"sepal_width\", \"petal_length\", \"petal_width\"])\n",
        "df_target = pd.DataFrame(data=iris.target, columns=[\"class\"])"
      ],
      "execution_count": 200,
      "outputs": []
    },
    {
      "cell_type": "markdown",
      "metadata": {
        "id": "FhrE0-osnjdi"
      },
      "source": [
        "\n",
        "Report value of np.sum(y_pred==y) / len(y_pred)"
      ]
    },
    {
      "cell_type": "code",
      "metadata": {
        "colab": {
          "base_uri": "https://localhost:8080/"
        },
        "id": "7Kd-_GwmmojW",
        "outputId": "3e2ad10d-2257-4146-d6b8-d721bf8c2b29"
      },
      "source": [
        "df_target = np.array(df_target).reshape(150,)\n",
        "\n",
        "np.sum(y_cluster_gmm==df_target) / len(y_cluster_gmm)"
      ],
      "execution_count": 201,
      "outputs": [
        {
          "output_type": "execute_result",
          "data": {
            "text/plain": [
              "0.06666666666666667"
            ]
          },
          "metadata": {},
          "execution_count": 201
        }
      ]
    },
    {
      "cell_type": "code",
      "metadata": {
        "colab": {
          "base_uri": "https://localhost:8080/"
        },
        "id": "ivxTCdvCy-hj",
        "outputId": "8a50a406-321e-4534-a15e-8c2f25b2f2c7"
      },
      "source": [
        "from scipy import stats\n",
        "from scipy.stats import mstats\n",
        "stats.mode(y_cluster_gmm)\n",
        "mstats.mode(y_cluster_gmm)"
      ],
      "execution_count": 245,
      "outputs": [
        {
          "output_type": "execute_result",
          "data": {
            "text/plain": [
              "ModeResult(mode=array([1.]), count=array([50.]))"
            ]
          },
          "metadata": {},
          "execution_count": 245
        }
      ]
    },
    {
      "cell_type": "code",
      "metadata": {
        "colab": {
          "base_uri": "https://localhost:8080/"
        },
        "id": "3s5UWhFMxQXq",
        "outputId": "d6fc4210-50a6-45c8-cf20-5a38b5233f53"
      },
      "source": [
        "df.describe"
      ],
      "execution_count": 202,
      "outputs": [
        {
          "output_type": "execute_result",
          "data": {
            "text/plain": [
              "<bound method NDFrame.describe of      sepal length (cm)  sepal width (cm)  ...  species   K Mean predicted label\n",
              "0                  5.1               3.5  ...        0                        1\n",
              "1                  4.9               3.0  ...        0                        1\n",
              "2                  4.7               3.2  ...        0                        1\n",
              "3                  4.6               3.1  ...        0                        1\n",
              "4                  5.0               3.6  ...        0                        1\n",
              "..                 ...               ...  ...      ...                      ...\n",
              "145                6.7               3.0  ...        2                        2\n",
              "146                6.3               2.5  ...        2                        0\n",
              "147                6.5               3.0  ...        2                        2\n",
              "148                6.2               3.4  ...        2                        2\n",
              "149                5.9               3.0  ...        2                        0\n",
              "\n",
              "[150 rows x 6 columns]>"
            ]
          },
          "metadata": {},
          "execution_count": 202
        }
      ]
    },
    {
      "cell_type": "code",
      "metadata": {
        "id": "hySU4f8awg-H"
      },
      "source": [
        "wh1 = df[['sepal length (cm)','sepal width (cm)','petal length (cm)','petal width (cm)']]"
      ],
      "execution_count": 203,
      "outputs": []
    },
    {
      "cell_type": "code",
      "metadata": {
        "colab": {
          "base_uri": "https://localhost:8080/",
          "height": 364
        },
        "id": "4nsp0lI4yZ8p",
        "outputId": "f7cebeff-965b-4c3e-ca0a-83268268f936"
      },
      "source": [
        "cor = wh1.corr() #Calculate the correlation of the above variables\n",
        "sns.heatmap(cor, square = True)"
      ],
      "execution_count": 204,
      "outputs": [
        {
          "output_type": "execute_result",
          "data": {
            "text/plain": [
              "<matplotlib.axes._subplots.AxesSubplot at 0x7f43c0111690>"
            ]
          },
          "metadata": {},
          "execution_count": 204
        },
        {
          "output_type": "display_data",
          "data": {
            "image/png": "[encoded data removed]",
            "text/plain": [
              "<Figure size 432x288 with 2 Axes>"
            ]
          },
          "metadata": {
            "needs_background": "light"
          }
        }
      ]
    },
    {
      "cell_type": "code",
      "metadata": {
        "id": "KI4VHZnTwA1b"
      },
      "source": [
        "def doGMM(x, nclust=2):\n",
        "    model = GaussianMixture(n_components=nclust,init_params='kmeans')\n",
        "    model.fit(x)\n",
        "    clust_labels3 = model.predict(x)\n",
        "    return (clust_labels3)\n",
        "\n",
        "clust_labels3 = doGMM(wh1,2)\n",
        "gmm = pd.DataFrame(clust_labels3)\n",
        "#wh1.insert((wh1.shape[1]),'gmm',gmm)\n"
      ],
      "execution_count": 205,
      "outputs": []
    },
    {
      "cell_type": "markdown",
      "metadata": {
        "id": "WQ2FQNUNpNcI"
      },
      "source": [
        "Predicting labels for X_new"
      ]
    },
    {
      "cell_type": "code",
      "metadata": {
        "id": "OWXH_gm8pMhl"
      },
      "source": [
        "X_new1= iris.data[:, :2]\n",
        "y_new1= iris.target"
      ],
      "execution_count": 207,
      "outputs": []
    },
    {
      "cell_type": "code",
      "metadata": {
        "id": "skGAMxvatYYN"
      },
      "source": [
        "X_news = np.array([[0, 2], [3, 2], [-3, 3], [-3, 2.5]])"
      ],
      "execution_count": 225,
      "outputs": []
    },
    {
      "cell_type": "code",
      "metadata": {
        "colab": {
          "base_uri": "https://localhost:8080/"
        },
        "id": "a6jiDTLCs_Qt",
        "outputId": "06c29c55-1805-4650-b02d-2416321e1b52"
      },
      "source": [
        "km_new = KMeans(n_clusters=nclusters,random_state=0)\n",
        "km_new.fit(X3)"
      ],
      "execution_count": 220,
      "outputs": [
        {
          "output_type": "execute_result",
          "data": {
            "text/plain": [
              "KMeans(algorithm='auto', copy_x=True, init='k-means++', max_iter=300,\n",
              "       n_clusters=4, n_init=10, n_jobs=None, precompute_distances='auto',\n",
              "       random_state=0, tol=0.0001, verbose=0)"
            ]
          },
          "metadata": {},
          "execution_count": 220
        }
      ]
    },
    {
      "cell_type": "code",
      "metadata": {
        "id": "jp0y68V7p3cJ"
      },
      "source": [
        "y_new_result = km_new.fit_predict(X_news)"
      ],
      "execution_count": 226,
      "outputs": []
    },
    {
      "cell_type": "code",
      "metadata": {
        "colab": {
          "base_uri": "https://localhost:8080/"
        },
        "id": "161GHHZ1rK_9",
        "outputId": "0e13d402-2c3f-4f6c-ec15-3fcbd8b33ce0"
      },
      "source": [
        "print(y_new_result)"
      ],
      "execution_count": 227,
      "outputs": [
        {
          "output_type": "stream",
          "name": "stdout",
          "text": [
            "[0 2 1 3]\n"
          ]
        }
      ]
    },
    {
      "cell_type": "markdown",
      "metadata": {
        "id": "Xiwev0NxwG3p"
      },
      "source": [
        "Comparing interias of k=3 and k=8"
      ]
    },
    {
      "cell_type": "code",
      "metadata": {
        "colab": {
          "base_uri": "https://localhost:8080/"
        },
        "id": "4M-xr-iAwMU1",
        "outputId": "b6ed24b0-2663-4f3a-adb2-c5442c92f31a"
      },
      "source": [
        "print(kmeans3.inertia_)"
      ],
      "execution_count": 241,
      "outputs": [
        {
          "output_type": "stream",
          "name": "stdout",
          "text": [
            "85.6409149170066\n"
          ]
        }
      ]
    },
    {
      "cell_type": "code",
      "metadata": {
        "colab": {
          "base_uri": "https://localhost:8080/"
        },
        "id": "bRlln_I0wdCF",
        "outputId": "bc7b62e9-04e8-478e-d6f8-0a2fff223e46"
      },
      "source": [
        "print(kmeans8.inertia_)"
      ],
      "execution_count": 242,
      "outputs": [
        {
          "output_type": "stream",
          "name": "stdout",
          "text": [
            "40.61295373059778\n"
          ]
        }
      ]
    },
    {
      "cell_type": "markdown",
      "metadata": {
        "id": "5aw2QzNOx75i"
      },
      "source": [
        "The inertia at k=3 is lot better than at k=8"
      ]
    }
  ]
}